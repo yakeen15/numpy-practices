{
 "cells": [
  {
   "cell_type": "markdown",
   "id": "1f17b396",
   "metadata": {},
   "source": [
    "# Numpy basics\n",
    "In this notebook, I will be covering the basics of numpy. The topics that will be covered here are  \n",
    "- Array creation\n",
    "- Array properties\n",
    "- Array reshaping\n",
    "- Indexing and slicing\n",
    "- Some useful functions\n",
    "Let's get started."
   ]
  },
  {
   "cell_type": "markdown",
   "id": "8bb4ac89",
   "metadata": {},
   "source": [
    "First we will add the library"
   ]
  },
  {
   "cell_type": "code",
   "execution_count": 2,
   "id": "7644b0d4",
   "metadata": {},
   "outputs": [],
   "source": [
    "import numpy as np"
   ]
  },
  {
   "cell_type": "markdown",
   "id": "e6406539",
   "metadata": {},
   "source": [
    "# Array creation\n",
    "## From python lists\n",
    "The easiest way to create an array in numpy is to use the `np.array()` while passing a python list."
   ]
  },
  {
   "cell_type": "code",
   "execution_count": 3,
   "id": "c18fb54a",
   "metadata": {},
   "outputs": [
    {
     "data": {
      "text/plain": [
       "array([1, 2, 3])"
      ]
     },
     "execution_count": 3,
     "metadata": {},
     "output_type": "execute_result"
    }
   ],
   "source": [
    "arr = np.array([1, 2, 3])\n",
    "arr"
   ]
  },
  {
   "cell_type": "markdown",
   "id": "3efbf47c",
   "metadata": {},
   "source": [
    "If we have a predefined python list, it could also be used as follows."
   ]
  },
  {
   "cell_type": "code",
   "execution_count": 4,
   "id": "d8607dc5",
   "metadata": {},
   "outputs": [
    {
     "data": {
      "text/plain": [
       "array([3, 5, 7])"
      ]
     },
     "execution_count": 4,
     "metadata": {},
     "output_type": "execute_result"
    }
   ],
   "source": [
    "a = [3, 5, 7]\n",
    "arr2 = np.array(a)\n",
    "arr2"
   ]
  },
  {
   "cell_type": "markdown",
   "id": "923bbd26",
   "metadata": {},
   "source": [
    "## Using numpy functions to generate arrays\n",
    "### Creating an array of ones or zeros"
   ]
  },
  {
   "cell_type": "code",
   "execution_count": 5,
   "id": "e3dd8243",
   "metadata": {},
   "outputs": [
    {
     "data": {
      "text/plain": [
       "array([1., 1., 1.])"
      ]
     },
     "execution_count": 5,
     "metadata": {},
     "output_type": "execute_result"
    }
   ],
   "source": [
    "o_arr = np.ones(3)  #1D ones array with 3 elements\n",
    "o_arr"
   ]
  },
  {
   "cell_type": "code",
   "execution_count": 6,
   "id": "ccc1958b",
   "metadata": {},
   "outputs": [
    {
     "data": {
      "text/plain": [
       "array([[0., 0.],\n",
       "       [0., 0.]])"
      ]
     },
     "execution_count": 6,
     "metadata": {},
     "output_type": "execute_result"
    }
   ],
   "source": [
    "z_arr = np.zeros([2, 2])    #2D zeroes array with 2*2=4 elements\n",
    "z_arr"
   ]
  },
  {
   "cell_type": "markdown",
   "id": "16866144",
   "metadata": {},
   "source": [
    "### Creating arrays from a range\n",
    "We can use `np.arange()` and `np.linspace()` to generate an array from a range."
   ]
  },
  {
   "cell_type": "code",
   "execution_count": 7,
   "id": "27ad63e3",
   "metadata": {},
   "outputs": [
    {
     "data": {
      "text/plain": [
       "array([1, 4, 7])"
      ]
     },
     "execution_count": 7,
     "metadata": {},
     "output_type": "execute_result"
    }
   ],
   "source": [
    "arr3 = np.arange(1, 10, 3)    #Will generate numbers from 1 to 10 with step 3\n",
    "arr3"
   ]
  },
  {
   "cell_type": "code",
   "execution_count": 8,
   "id": "e54ecc4c",
   "metadata": {},
   "outputs": [
    {
     "data": {
      "text/plain": [
       "array([ 0.        ,  1.11111111,  2.22222222,  3.33333333,  4.44444444,\n",
       "        5.55555556,  6.66666667,  7.77777778,  8.88888889, 10.        ])"
      ]
     },
     "execution_count": 8,
     "metadata": {},
     "output_type": "execute_result"
    }
   ],
   "source": [
    "arr4 = np.linspace(0, 10, 10)   #Start, stop and number of points\n",
    "arr4"
   ]
  },
  {
   "cell_type": "markdown",
   "id": "21eccc88",
   "metadata": {},
   "source": [
    "### Creating array of random numbers"
   ]
  },
  {
   "cell_type": "code",
   "execution_count": 9,
   "id": "91d080d8",
   "metadata": {},
   "outputs": [
    {
     "data": {
      "text/plain": [
       "array([[0.92475342, 0.42902163, 0.08963816, 0.5137294 ],\n",
       "       [0.66814528, 0.45691217, 0.79266873, 0.65555954]])"
      ]
     },
     "execution_count": 9,
     "metadata": {},
     "output_type": "execute_result"
    }
   ],
   "source": [
    "arr5 = np.random.rand(2,4)   #2x4 array with random numbers from 0 to 1\n",
    "arr5"
   ]
  },
  {
   "cell_type": "code",
   "execution_count": 10,
   "id": "175e200d",
   "metadata": {},
   "outputs": [
    {
     "data": {
      "text/plain": [
       "array([[4, 8, 8],\n",
       "       [5, 3, 2],\n",
       "       [2, 1, 3]])"
      ]
     },
     "execution_count": 10,
     "metadata": {},
     "output_type": "execute_result"
    }
   ],
   "source": [
    "arr6 = np.random.randint(1, 10, (3,3))  #3x3 array with random numbers from\n",
    "arr6                                    #0 to 9"
   ]
  },
  {
   "cell_type": "markdown",
   "id": "601189e6",
   "metadata": {},
   "source": [
    "## Array properties\n",
    "We can get the size and data types of a numpy array using various builtin methods. We can find the data type, the total number of elements, the shape of the array, the number of bytes an item of the array takes and the total number of bytes used by the array."
   ]
  },
  {
   "cell_type": "code",
   "execution_count": 11,
   "id": "788a43ac",
   "metadata": {},
   "outputs": [
    {
     "data": {
      "text/plain": [
       "dtype('int64')"
      ]
     },
     "execution_count": 11,
     "metadata": {},
     "output_type": "execute_result"
    }
   ],
   "source": [
    "arr7 = np.array([[1, 3], [2, -1]])\n",
    "arr7.dtype  #Gives the data type of the array"
   ]
  },
  {
   "cell_type": "code",
   "execution_count": 12,
   "id": "d5f89320",
   "metadata": {},
   "outputs": [
    {
     "data": {
      "text/plain": [
       "4"
      ]
     },
     "execution_count": 12,
     "metadata": {},
     "output_type": "execute_result"
    }
   ],
   "source": [
    "arr7.size   #Total number of elements"
   ]
  },
  {
   "cell_type": "code",
   "execution_count": 13,
   "id": "094b880e",
   "metadata": {},
   "outputs": [
    {
     "data": {
      "text/plain": [
       "(2, 2)"
      ]
     },
     "execution_count": 13,
     "metadata": {},
     "output_type": "execute_result"
    }
   ],
   "source": [
    "arr7.shape  #Shape of the array ie 2x2"
   ]
  },
  {
   "cell_type": "code",
   "execution_count": 14,
   "id": "e3b32955",
   "metadata": {},
   "outputs": [
    {
     "data": {
      "text/plain": [
       "2"
      ]
     },
     "execution_count": 14,
     "metadata": {},
     "output_type": "execute_result"
    }
   ],
   "source": [
    "arr7.ndim   #Prints the number of dimensions, here 2 since it's a 2x2 matrix"
   ]
  },
  {
   "cell_type": "code",
   "execution_count": 15,
   "id": "afde56ff",
   "metadata": {},
   "outputs": [
    {
     "data": {
      "text/plain": [
       "8"
      ]
     },
     "execution_count": 15,
     "metadata": {},
     "output_type": "execute_result"
    }
   ],
   "source": [
    "arr7.itemsize   #How much memory each entry takes"
   ]
  },
  {
   "cell_type": "code",
   "execution_count": 16,
   "id": "5686b5fe",
   "metadata": {},
   "outputs": [
    {
     "data": {
      "text/plain": [
       "32"
      ]
     },
     "execution_count": 16,
     "metadata": {},
     "output_type": "execute_result"
    }
   ],
   "source": [
    "arr7.nbytes #How much memory the total array is taking up"
   ]
  },
  {
   "cell_type": "code",
   "execution_count": 17,
   "id": "6edc1966",
   "metadata": {},
   "outputs": [
    {
     "data": {
      "text/plain": [
       "32"
      ]
     },
     "execution_count": 17,
     "metadata": {},
     "output_type": "execute_result"
    }
   ],
   "source": [
    "# Alternative method to get the total number of bytes the array is taking\n",
    "arr7.size * arr7.itemsize"
   ]
  },
  {
   "cell_type": "markdown",
   "id": "2e3a4ec8",
   "metadata": {},
   "source": [
    "Let's try defining a 3D array and test how the properties change for them."
   ]
  },
  {
   "cell_type": "code",
   "execution_count": 18,
   "id": "48614c3e",
   "metadata": {},
   "outputs": [
    {
     "data": {
      "text/plain": [
       "array([[['1', '2', '4.5'],\n",
       "        ['2', '3', 'cat']],\n",
       "\n",
       "       [['-3', 'True', 'False'],\n",
       "        ['red', 'name', '4']],\n",
       "\n",
       "       [['1', '2', '3'],\n",
       "        ['4', '5', '6']]], dtype='<U32')"
      ]
     },
     "execution_count": 18,
     "metadata": {},
     "output_type": "execute_result"
    }
   ],
   "source": [
    "arr8 = np.array(\n",
    "    [[[1, 2, 4.5],[2, 3, 'cat']],[[-3, True, False],['red', 'name', 4]],[[1, 2, 3],[4, 5, 6]]]\n",
    ")\n",
    "arr8"
   ]
  },
  {
   "cell_type": "code",
   "execution_count": 19,
   "id": "5d12b4ef",
   "metadata": {},
   "outputs": [
    {
     "data": {
      "text/plain": [
       "(3, 2, 3)"
      ]
     },
     "execution_count": 19,
     "metadata": {},
     "output_type": "execute_result"
    }
   ],
   "source": [
    "arr8.shape"
   ]
  },
  {
   "cell_type": "markdown",
   "id": "8c4b8839",
   "metadata": {},
   "source": [
    "The shape, in this case is a 3-tuple. The first number represents the slices, or how many groups of arrays there are. The second number represents the number of arrays in one group (each group must have same number of arrays). The last number represents the number of items for each array."
   ]
  },
  {
   "cell_type": "code",
   "execution_count": 20,
   "id": "20b045d7",
   "metadata": {},
   "outputs": [
    {
     "data": {
      "text/plain": [
       "dtype('<U32')"
      ]
     },
     "execution_count": 20,
     "metadata": {},
     "output_type": "execute_result"
    }
   ],
   "source": [
    "arr8.dtype"
   ]
  },
  {
   "cell_type": "markdown",
   "id": "39a332a2",
   "metadata": {},
   "source": [
    "This means that the entire array is considered to consist of Unicode characters of 32 characters in each string."
   ]
  },
  {
   "cell_type": "code",
   "execution_count": 21,
   "id": "70eab241",
   "metadata": {},
   "outputs": [
    {
     "data": {
      "text/plain": [
       "128"
      ]
     },
     "execution_count": 21,
     "metadata": {},
     "output_type": "execute_result"
    }
   ],
   "source": [
    "arr8.itemsize"
   ]
  },
  {
   "cell_type": "code",
   "execution_count": 22,
   "id": "604b5b17",
   "metadata": {},
   "outputs": [
    {
     "data": {
      "text/plain": [
       "2304"
      ]
     },
     "execution_count": 22,
     "metadata": {},
     "output_type": "execute_result"
    }
   ],
   "source": [
    "arr8.nbytes"
   ]
  },
  {
   "cell_type": "markdown",
   "id": "8b529683",
   "metadata": {},
   "source": [
    "# Reshaping arrays"
   ]
  },
  {
   "cell_type": "markdown",
   "id": "66e648ea",
   "metadata": {},
   "source": [
    "We can reshape any given array into any desired shape, provided that the total item number of the new shape is equal to the previous one."
   ]
  },
  {
   "cell_type": "markdown",
   "id": "0e8a405c",
   "metadata": {},
   "source": [
    "## Using `reshape()` method"
   ]
  },
  {
   "cell_type": "code",
   "execution_count": 23,
   "id": "fa57e750",
   "metadata": {},
   "outputs": [
    {
     "data": {
      "text/plain": [
       "array([ 0,  1,  2,  3,  4,  5,  6,  7,  8,  9, 10, 11, 12, 13, 14, 15, 16,\n",
       "       17, 18, 19, 20, 21, 22, 23, 24, 25, 26, 27, 28, 29, 30, 31, 32, 33,\n",
       "       34, 35, 36, 37, 38, 39, 40, 41, 42, 43, 44, 45, 46, 47, 48, 49, 50,\n",
       "       51, 52, 53, 54, 55, 56, 57, 58, 59, 60, 61, 62, 63, 64, 65, 66, 67,\n",
       "       68, 69, 70, 71, 72, 73, 74, 75, 76, 77, 78, 79, 80, 81, 82, 83, 84,\n",
       "       85, 86, 87, 88, 89, 90, 91, 92, 93, 94, 95, 96, 97, 98, 99])"
      ]
     },
     "execution_count": 23,
     "metadata": {},
     "output_type": "execute_result"
    }
   ],
   "source": [
    "arr9 = np.arange(100)   #Note: 100 elements\n",
    "arr9"
   ]
  },
  {
   "cell_type": "code",
   "execution_count": 24,
   "id": "4e10c755",
   "metadata": {},
   "outputs": [
    {
     "data": {
      "text/plain": [
       "array([[ 0,  1,  2,  3,  4,  5,  6,  7,  8,  9, 10, 11, 12, 13, 14, 15,\n",
       "        16, 17, 18, 19, 20, 21, 22, 23, 24],\n",
       "       [25, 26, 27, 28, 29, 30, 31, 32, 33, 34, 35, 36, 37, 38, 39, 40,\n",
       "        41, 42, 43, 44, 45, 46, 47, 48, 49],\n",
       "       [50, 51, 52, 53, 54, 55, 56, 57, 58, 59, 60, 61, 62, 63, 64, 65,\n",
       "        66, 67, 68, 69, 70, 71, 72, 73, 74],\n",
       "       [75, 76, 77, 78, 79, 80, 81, 82, 83, 84, 85, 86, 87, 88, 89, 90,\n",
       "        91, 92, 93, 94, 95, 96, 97, 98, 99]])"
      ]
     },
     "execution_count": 24,
     "metadata": {},
     "output_type": "execute_result"
    }
   ],
   "source": [
    "arr9.reshape((4,25))    #Works because 4*25=100"
   ]
  },
  {
   "cell_type": "code",
   "execution_count": 25,
   "id": "7f4031e1",
   "metadata": {},
   "outputs": [
    {
     "data": {
      "text/plain": [
       "array([[ 0,  1,  2,  3,  4,  5,  6,  7,  8,  9],\n",
       "       [10, 11, 12, 13, 14, 15, 16, 17, 18, 19],\n",
       "       [20, 21, 22, 23, 24, 25, 26, 27, 28, 29],\n",
       "       [30, 31, 32, 33, 34, 35, 36, 37, 38, 39],\n",
       "       [40, 41, 42, 43, 44, 45, 46, 47, 48, 49],\n",
       "       [50, 51, 52, 53, 54, 55, 56, 57, 58, 59],\n",
       "       [60, 61, 62, 63, 64, 65, 66, 67, 68, 69],\n",
       "       [70, 71, 72, 73, 74, 75, 76, 77, 78, 79],\n",
       "       [80, 81, 82, 83, 84, 85, 86, 87, 88, 89],\n",
       "       [90, 91, 92, 93, 94, 95, 96, 97, 98, 99]])"
      ]
     },
     "execution_count": 25,
     "metadata": {},
     "output_type": "execute_result"
    }
   ],
   "source": [
    "arr9.reshape((10,10))   #Works because 10*10=100"
   ]
  },
  {
   "cell_type": "markdown",
   "id": "207c2151",
   "metadata": {},
   "source": [
    "## Flattening an array\n",
    "One could also convert a multi-dimensional array to a one dimensional array, which is called flattening."
   ]
  },
  {
   "cell_type": "code",
   "execution_count": 26,
   "id": "b07e90d7",
   "metadata": {},
   "outputs": [
    {
     "data": {
      "text/plain": [
       "array([[1, 2],\n",
       "       [3, 4]])"
      ]
     },
     "execution_count": 26,
     "metadata": {},
     "output_type": "execute_result"
    }
   ],
   "source": [
    "arr10 = np.array([[1, 2], [3, 4]])\n",
    "arr10"
   ]
  },
  {
   "cell_type": "code",
   "execution_count": 27,
   "id": "3eb9c1f9",
   "metadata": {},
   "outputs": [
    {
     "data": {
      "text/plain": [
       "array([1, 2, 3, 4])"
      ]
     },
     "execution_count": 27,
     "metadata": {},
     "output_type": "execute_result"
    }
   ],
   "source": [
    "arr10.flatten()"
   ]
  },
  {
   "cell_type": "code",
   "execution_count": 28,
   "id": "9588d744",
   "metadata": {},
   "outputs": [
    {
     "data": {
      "text/plain": [
       "array([1, 2, 3, 4])"
      ]
     },
     "execution_count": 28,
     "metadata": {},
     "output_type": "execute_result"
    }
   ],
   "source": [
    "arr10.ravel()   #Alternative way to flatten an array"
   ]
  },
  {
   "cell_type": "markdown",
   "id": "c420bde4",
   "metadata": {},
   "source": [
    "What's the difference between `flatten` and `ravel`? `flatten` creates a new array from the original, while `ravel` returns a reference to the original array. This means any change done to the array returned by `ravel` also affects the original array."
   ]
  },
  {
   "cell_type": "code",
   "execution_count": 29,
   "id": "38648fd6",
   "metadata": {},
   "outputs": [
    {
     "data": {
      "text/plain": [
       "array([[0, 1, 2, 3, 4],\n",
       "       [5, 6, 7, 8, 9]])"
      ]
     },
     "execution_count": 29,
     "metadata": {},
     "output_type": "execute_result"
    }
   ],
   "source": [
    "ra = np.arange(10).reshape((2, 5))\n",
    "ra"
   ]
  },
  {
   "cell_type": "code",
   "execution_count": 30,
   "id": "c7c02c92",
   "metadata": {},
   "outputs": [
    {
     "data": {
      "text/plain": [
       "array([0, 1, 2, 3, 4, 5, 6, 7, 8, 9])"
      ]
     },
     "execution_count": 30,
     "metadata": {},
     "output_type": "execute_result"
    }
   ],
   "source": [
    "rb = ra.ravel()\n",
    "rb"
   ]
  },
  {
   "cell_type": "code",
   "execution_count": 31,
   "id": "3441aa49",
   "metadata": {},
   "outputs": [
    {
     "data": {
      "text/plain": [
       "array([ 0, -1,  2,  3,  4,  5,  6,  7,  8,  9])"
      ]
     },
     "execution_count": 31,
     "metadata": {},
     "output_type": "execute_result"
    }
   ],
   "source": [
    "rb[1] = -1\n",
    "rb"
   ]
  },
  {
   "cell_type": "code",
   "execution_count": 32,
   "id": "87217f95",
   "metadata": {},
   "outputs": [
    {
     "data": {
      "text/plain": [
       "array([[ 0, -1,  2,  3,  4],\n",
       "       [ 5,  6,  7,  8,  9]])"
      ]
     },
     "execution_count": 32,
     "metadata": {},
     "output_type": "execute_result"
    }
   ],
   "source": [
    "ra"
   ]
  },
  {
   "cell_type": "markdown",
   "id": "48468c25",
   "metadata": {},
   "source": [
    "Note that the original array has $-1$ instead of $1$, even though we changed the element in the new array."
   ]
  },
  {
   "cell_type": "markdown",
   "id": "84fdac88",
   "metadata": {},
   "source": [
    "## Transposing\n",
    "Transposing an array is as easy as follows"
   ]
  },
  {
   "cell_type": "code",
   "execution_count": 33,
   "id": "03c204c1",
   "metadata": {},
   "outputs": [
    {
     "data": {
      "text/plain": [
       "array([[ 0,  5],\n",
       "       [-1,  6],\n",
       "       [ 2,  7],\n",
       "       [ 3,  8],\n",
       "       [ 4,  9]])"
      ]
     },
     "execution_count": 33,
     "metadata": {},
     "output_type": "execute_result"
    }
   ],
   "source": [
    "ra.T"
   ]
  },
  {
   "cell_type": "markdown",
   "id": "6fe7501d",
   "metadata": {},
   "source": [
    "# Indexing and slicing\n",
    "Now, we move on to indexing and slicing. Let's take a look at indexing first.\n",
    "## Indexing\n",
    "We use indexing when we need to find values from multiple positions of an array. For example, let's define array of length $10$, and get the first, fifth and the last numbers from them using indexing."
   ]
  },
  {
   "cell_type": "code",
   "execution_count": 34,
   "id": "8ce354c2",
   "metadata": {},
   "outputs": [
    {
     "data": {
      "text/plain": [
       "array([0, 1, 2, 3, 4, 5, 6, 7, 8, 9])"
      ]
     },
     "execution_count": 34,
     "metadata": {},
     "output_type": "execute_result"
    }
   ],
   "source": [
    "arr11 = np.arange(10)\n",
    "arr11"
   ]
  },
  {
   "cell_type": "code",
   "execution_count": 35,
   "id": "31d8cf88",
   "metadata": {},
   "outputs": [
    {
     "data": {
      "text/plain": [
       "array([0, 4, 9])"
      ]
     },
     "execution_count": 35,
     "metadata": {},
     "output_type": "execute_result"
    }
   ],
   "source": [
    "arr11[[0, 4, -1]]   #First, fifth and last respectively"
   ]
  },
  {
   "cell_type": "markdown",
   "id": "296a62ba",
   "metadata": {},
   "source": [
    "## Boolean masking\n",
    "When we use one or more conditions to find the elements of an array, we can use boolean masking. The simplest way to make a boolean mask is to create a boolean array."
   ]
  },
  {
   "cell_type": "code",
   "execution_count": 36,
   "id": "de8922e2",
   "metadata": {},
   "outputs": [
    {
     "data": {
      "text/plain": [
       "array([0, 1, 2, 3, 4])"
      ]
     },
     "execution_count": 36,
     "metadata": {},
     "output_type": "execute_result"
    }
   ],
   "source": [
    "barr = np.arange(5)\n",
    "barr"
   ]
  },
  {
   "cell_type": "code",
   "execution_count": 37,
   "id": "08ce1999",
   "metadata": {},
   "outputs": [
    {
     "data": {
      "text/plain": [
       "array([0, 1, 3])"
      ]
     },
     "execution_count": 37,
     "metadata": {},
     "output_type": "execute_result"
    }
   ],
   "source": [
    "mask = np.array([True, True, False, True, False])   #Boolean array\n",
    "barr[mask]                                          \n",
    "#This will only print the entries in the True position of mask of the\n",
    "#respective array of barr"
   ]
  },
  {
   "cell_type": "markdown",
   "id": "c04f758e",
   "metadata": {},
   "source": [
    "Next, we could bypass creation of the mask array by using conditions directly inside the indexing of the array."
   ]
  },
  {
   "cell_type": "code",
   "execution_count": 38,
   "id": "b76dd850",
   "metadata": {},
   "outputs": [
    {
     "data": {
      "text/plain": [
       "array([0, 1, 2, 3, 4, 5, 6, 7, 8, 9])"
      ]
     },
     "execution_count": 38,
     "metadata": {},
     "output_type": "execute_result"
    }
   ],
   "source": [
    "barr2 = np.arange(10)\n",
    "barr2"
   ]
  },
  {
   "cell_type": "markdown",
   "id": "82b35fe4",
   "metadata": {},
   "source": [
    "Let's get all even numbers from this."
   ]
  },
  {
   "cell_type": "code",
   "execution_count": 39,
   "id": "1dce39b1",
   "metadata": {},
   "outputs": [
    {
     "data": {
      "text/plain": [
       "array([0, 2, 4, 6, 8])"
      ]
     },
     "execution_count": 39,
     "metadata": {},
     "output_type": "execute_result"
    }
   ],
   "source": [
    "barr2[barr2 % 2 == 0]"
   ]
  },
  {
   "cell_type": "markdown",
   "id": "6f749eb2",
   "metadata": {},
   "source": [
    "Let's try finding all the elements that are not multiples of $3$."
   ]
  },
  {
   "cell_type": "code",
   "execution_count": 40,
   "id": "2b10fbd3",
   "metadata": {},
   "outputs": [
    {
     "data": {
      "text/plain": [
       "array([1, 2, 4, 5, 7, 8])"
      ]
     },
     "execution_count": 40,
     "metadata": {},
     "output_type": "execute_result"
    }
   ],
   "source": [
    "barr2[~(barr2 % 3 == 0)]"
   ]
  },
  {
   "cell_type": "markdown",
   "id": "59a7f0de",
   "metadata": {},
   "source": [
    "We could even create multiple conditions in the same indexing, for example, we can do the following to find all even multiple of $3$ in the array."
   ]
  },
  {
   "cell_type": "code",
   "execution_count": 41,
   "id": "e507c4eb",
   "metadata": {},
   "outputs": [
    {
     "data": {
      "text/plain": [
       "array([0, 6])"
      ]
     },
     "execution_count": 41,
     "metadata": {},
     "output_type": "execute_result"
    }
   ],
   "source": [
    "barr2[(barr2 % 2 == 0) & (barr2 % 3 == 0)]"
   ]
  },
  {
   "cell_type": "markdown",
   "id": "b4e4a059",
   "metadata": {},
   "source": [
    "It is important to put parenthesis around the conditions if we are using logical and `&` and logical or `|`."
   ]
  },
  {
   "cell_type": "markdown",
   "id": "b7515dfe",
   "metadata": {},
   "source": [
    "## Slicing"
   ]
  },
  {
   "cell_type": "markdown",
   "id": "450ee10f",
   "metadata": {},
   "source": [
    "What if we want the first 4 elements? We will use the `:` operator."
   ]
  },
  {
   "cell_type": "code",
   "execution_count": 42,
   "id": "162c49d9",
   "metadata": {},
   "outputs": [
    {
     "data": {
      "text/plain": [
       "array([0, 1, 2, 3])"
      ]
     },
     "execution_count": 42,
     "metadata": {},
     "output_type": "execute_result"
    }
   ],
   "source": [
    "arr11[:4]"
   ]
  },
  {
   "cell_type": "markdown",
   "id": "8ea2267d",
   "metadata": {},
   "source": [
    "Similarly, we can try and get the values starting from the 3rd to the 6th using it."
   ]
  },
  {
   "cell_type": "code",
   "execution_count": 43,
   "id": "56e1d91a",
   "metadata": {},
   "outputs": [
    {
     "data": {
      "text/plain": [
       "array([3, 4, 5, 6])"
      ]
     },
     "execution_count": 43,
     "metadata": {},
     "output_type": "execute_result"
    }
   ],
   "source": [
    "arr11[3:7]  #The colon operator returns a list upto, not including \n",
    "            #the right limit"
   ]
  },
  {
   "cell_type": "markdown",
   "id": "a392f20c",
   "metadata": {},
   "source": [
    "To get every other element, we can use the `:` operator and specify the increment"
   ]
  },
  {
   "cell_type": "code",
   "execution_count": 44,
   "id": "b0ac6546",
   "metadata": {},
   "outputs": [
    {
     "data": {
      "text/plain": [
       "array([0, 2, 4, 6, 8])"
      ]
     },
     "execution_count": 44,
     "metadata": {},
     "output_type": "execute_result"
    }
   ],
   "source": [
    "arr11[0::2] #First element: starting index, second element: ending index\n",
    "            #if ommited, meaning till the end of array\n",
    "            #Third element: increment. "
   ]
  },
  {
   "cell_type": "markdown",
   "id": "5adc163b",
   "metadata": {},
   "source": [
    "We will now try slicing on a 2D matrix."
   ]
  },
  {
   "cell_type": "code",
   "execution_count": 45,
   "id": "f1a9c4aa",
   "metadata": {},
   "outputs": [
    {
     "data": {
      "text/plain": [
       "array([[ 0,  1,  2,  3,  4],\n",
       "       [ 5,  6,  7,  8,  9],\n",
       "       [10, 11, 12, 13, 14],\n",
       "       [15, 16, 17, 18, 19],\n",
       "       [20, 21, 22, 23, 24]])"
      ]
     },
     "execution_count": 45,
     "metadata": {},
     "output_type": "execute_result"
    }
   ],
   "source": [
    "arr12 = np.arange(25).reshape((5,5))\n",
    "arr12"
   ]
  },
  {
   "cell_type": "markdown",
   "id": "166d1737",
   "metadata": {},
   "source": [
    "Say we want the smaller 2D matrix right in the middle of the array."
   ]
  },
  {
   "cell_type": "code",
   "execution_count": 46,
   "id": "6db8cdc7",
   "metadata": {},
   "outputs": [
    {
     "data": {
      "text/plain": [
       "array([[ 6,  7,  8],\n",
       "       [11, 12, 13],\n",
       "       [16, 17, 18]])"
      ]
     },
     "execution_count": 46,
     "metadata": {},
     "output_type": "execute_result"
    }
   ],
   "source": [
    "arr12[1:4, 1:4] #First index chooses the rows, so row 2, 3 and 4\n",
    "                #Similarly for the column we have column 2, 3 and 4"
   ]
  },
  {
   "cell_type": "markdown",
   "id": "63ea40b5",
   "metadata": {},
   "source": [
    "We can also try to get the diagonal from here as following."
   ]
  },
  {
   "cell_type": "code",
   "execution_count": 47,
   "id": "a2e2b85e",
   "metadata": {},
   "outputs": [
    {
     "data": {
      "text/plain": [
       "array([ 0,  6, 12, 18, 24])"
      ]
     },
     "execution_count": 47,
     "metadata": {},
     "output_type": "execute_result"
    }
   ],
   "source": [
    "arr12[np.arange(5), np.arange(5)]\n",
    "#First index is the row numbers, so from 0 to 4\n",
    "#Second index is the column numbers, similar manner"
   ]
  },
  {
   "cell_type": "markdown",
   "id": "b02914af",
   "metadata": {},
   "source": [
    "# Useful functions\n",
    "Now we will take a look at numpy functions that could be used on all arrays.\n"
   ]
  },
  {
   "cell_type": "markdown",
   "id": "89dfef93",
   "metadata": {},
   "source": [
    "## Aggreagation functions\n",
    "Considering an array with numerical data, we can use aggregate functions on it to get useful information."
   ]
  },
  {
   "cell_type": "code",
   "execution_count": null,
   "id": "03535b74",
   "metadata": {},
   "outputs": [
    {
     "data": {
      "text/plain": [
       "array([1.36591242, 9.09598805, 0.44381671, 6.62074608, 6.52979401,\n",
       "       6.27282218, 1.45699211, 4.50020788, 0.83478324, 0.74320824,\n",
       "       1.75727351, 5.96233335, 2.0570793 , 9.35161229, 1.73367458,\n",
       "       1.32788278, 8.86852786, 0.39464955, 0.06570473, 3.05985114,\n",
       "       0.33999743, 3.50656392, 7.51745128, 4.6593452 , 6.77545483,\n",
       "       4.78398453, 9.38625987, 1.67038483, 5.46733438, 3.33199027,\n",
       "       4.19360378, 9.57125291, 9.15313632, 4.41705896, 6.59683087,\n",
       "       2.67648355, 3.42397326, 1.18063586, 4.65445548, 0.57948341,\n",
       "       5.22791529, 1.89667252, 3.71520449, 7.54859426, 7.3439027 ,\n",
       "       0.91185951, 7.36229279, 0.95727742, 6.16244166, 1.92376646])"
      ]
     },
     "execution_count": 49,
     "metadata": {},
     "output_type": "execute_result"
    }
   ],
   "source": [
    "arr13 = np.random.random(50)*10 #Generating random array\n",
    "arr13"
   ]
  },
  {
   "cell_type": "code",
   "execution_count": null,
   "id": "1a8eccf0",
   "metadata": {},
   "outputs": [
    {
     "data": {
      "text/plain": [
       "np.float64(209.37846804761895)"
      ]
     },
     "execution_count": 50,
     "metadata": {},
     "output_type": "execute_result"
    }
   ],
   "source": [
    "arr13.sum() #Sum of all the elements"
   ]
  },
  {
   "cell_type": "code",
   "execution_count": null,
   "id": "874ac1fa",
   "metadata": {},
   "outputs": [
    {
     "data": {
      "text/plain": [
       "np.float64(4.187569360952379)"
      ]
     },
     "execution_count": 51,
     "metadata": {},
     "output_type": "execute_result"
    }
   ],
   "source": [
    "arr13.mean()    #Arithmetic mean"
   ]
  },
  {
   "cell_type": "code",
   "execution_count": null,
   "id": "e96c27ad",
   "metadata": {},
   "outputs": [
    {
     "data": {
      "text/plain": [
       "np.float64(0.06570472824767637)"
      ]
     },
     "execution_count": 52,
     "metadata": {},
     "output_type": "execute_result"
    }
   ],
   "source": [
    "arr13.min() #Minimum value"
   ]
  },
  {
   "cell_type": "code",
   "execution_count": null,
   "id": "cfa6a0ad",
   "metadata": {},
   "outputs": [
    {
     "data": {
      "text/plain": [
       "np.float64(9.571252906563902)"
      ]
     },
     "execution_count": 53,
     "metadata": {},
     "output_type": "execute_result"
    }
   ],
   "source": [
    "arr13.max() #Maximum value"
   ]
  },
  {
   "cell_type": "code",
   "execution_count": null,
   "id": "3fbf6bf5",
   "metadata": {},
   "outputs": [
    {
     "data": {
      "text/plain": [
       "np.float64(2.9106416309232426)"
      ]
     },
     "execution_count": 54,
     "metadata": {},
     "output_type": "execute_result"
    }
   ],
   "source": [
    "arr13.std() #Standard deviation of the data"
   ]
  },
  {
   "cell_type": "code",
   "execution_count": null,
   "id": "c4998d7b",
   "metadata": {},
   "outputs": [
    {
     "data": {
      "text/plain": [
       "np.float64(8.471834703663513)"
      ]
     },
     "execution_count": 55,
     "metadata": {},
     "output_type": "execute_result"
    }
   ],
   "source": [
    "arr13.var() #Variance, Square of the standard deviation"
   ]
  },
  {
   "cell_type": "markdown",
   "id": "462be352",
   "metadata": {},
   "source": [
    "## Element wise operations\n",
    "Most of the common element wise operations can be done in a similar fashion. "
   ]
  },
  {
   "cell_type": "code",
   "execution_count": 58,
   "id": "c0dffe8f",
   "metadata": {},
   "outputs": [
    {
     "data": {
      "text/plain": [
       "array([ 1,  2,  3,  4,  5,  6,  7,  8,  9, 10, 11, 12, 13, 14, 15, 16, 17,\n",
       "       18, 19])"
      ]
     },
     "execution_count": 58,
     "metadata": {},
     "output_type": "execute_result"
    }
   ],
   "source": [
    "arr14 = np.arange(1, 20)\n",
    "arr14"
   ]
  },
  {
   "cell_type": "code",
   "execution_count": null,
   "id": "80ebe3bf",
   "metadata": {},
   "outputs": [
    {
     "data": {
      "text/plain": [
       "array([1.        , 1.41421356, 1.73205081, 2.        , 2.23606798,\n",
       "       2.44948974, 2.64575131, 2.82842712, 3.        , 3.16227766,\n",
       "       3.31662479, 3.46410162, 3.60555128, 3.74165739, 3.87298335,\n",
       "       4.        , 4.12310563, 4.24264069, 4.35889894])"
      ]
     },
     "execution_count": 60,
     "metadata": {},
     "output_type": "execute_result"
    }
   ],
   "source": [
    "np.sqrt(arr14)  #Square root"
   ]
  },
  {
   "cell_type": "code",
   "execution_count": 61,
   "id": "8594066a",
   "metadata": {},
   "outputs": [
    {
     "data": {
      "text/plain": [
       "array([2.71828183e+00, 7.38905610e+00, 2.00855369e+01, 5.45981500e+01,\n",
       "       1.48413159e+02, 4.03428793e+02, 1.09663316e+03, 2.98095799e+03,\n",
       "       8.10308393e+03, 2.20264658e+04, 5.98741417e+04, 1.62754791e+05,\n",
       "       4.42413392e+05, 1.20260428e+06, 3.26901737e+06, 8.88611052e+06,\n",
       "       2.41549528e+07, 6.56599691e+07, 1.78482301e+08])"
      ]
     },
     "execution_count": 61,
     "metadata": {},
     "output_type": "execute_result"
    }
   ],
   "source": [
    "np.exp(arr14)   #Exponential, e^x"
   ]
  },
  {
   "cell_type": "code",
   "execution_count": 62,
   "id": "eea5178b",
   "metadata": {},
   "outputs": [
    {
     "data": {
      "text/plain": [
       "array([0.        , 0.69314718, 1.09861229, 1.38629436, 1.60943791,\n",
       "       1.79175947, 1.94591015, 2.07944154, 2.19722458, 2.30258509,\n",
       "       2.39789527, 2.48490665, 2.56494936, 2.63905733, 2.7080502 ,\n",
       "       2.77258872, 2.83321334, 2.89037176, 2.94443898])"
      ]
     },
     "execution_count": 62,
     "metadata": {},
     "output_type": "execute_result"
    }
   ],
   "source": [
    "np.log(arr14)   #Natural log"
   ]
  },
  {
   "cell_type": "code",
   "execution_count": 63,
   "id": "67ae16d4",
   "metadata": {},
   "outputs": [
    {
     "data": {
      "text/plain": [
       "array([0.        , 0.30103   , 0.47712125, 0.60205999, 0.69897   ,\n",
       "       0.77815125, 0.84509804, 0.90308999, 0.95424251, 1.        ,\n",
       "       1.04139269, 1.07918125, 1.11394335, 1.14612804, 1.17609126,\n",
       "       1.20411998, 1.23044892, 1.25527251, 1.2787536 ])"
      ]
     },
     "execution_count": 63,
     "metadata": {},
     "output_type": "execute_result"
    }
   ],
   "source": [
    "np.log10(arr14) #10 based log"
   ]
  },
  {
   "cell_type": "markdown",
   "id": "4c47fbe3",
   "metadata": {},
   "source": [
    "## Linear algebra\n",
    "We can do dot products, vector norm, matrix inversion and much more using numpy!"
   ]
  },
  {
   "cell_type": "code",
   "execution_count": 67,
   "id": "9ffa6a4d",
   "metadata": {},
   "outputs": [
    {
     "data": {
      "text/plain": [
       "array([[-4, -2,  3]])"
      ]
     },
     "execution_count": 67,
     "metadata": {},
     "output_type": "execute_result"
    }
   ],
   "source": [
    "arr15 = np.random.randint(-5, 5, (1, 3))\n",
    "arr15"
   ]
  },
  {
   "cell_type": "code",
   "execution_count": 68,
   "id": "5c9b6b0e",
   "metadata": {},
   "outputs": [
    {
     "data": {
      "text/plain": [
       "array([[ 2, -3, -5]])"
      ]
     },
     "execution_count": 68,
     "metadata": {},
     "output_type": "execute_result"
    }
   ],
   "source": [
    "arr16 = np.random.randint(-5, 5, (1, 3))\n",
    "arr16"
   ]
  },
  {
   "cell_type": "code",
   "execution_count": null,
   "id": "2fa0ce89",
   "metadata": {},
   "outputs": [
    {
     "data": {
      "text/plain": [
       "array([[-17]])"
      ]
     },
     "execution_count": 70,
     "metadata": {},
     "output_type": "execute_result"
    }
   ],
   "source": [
    "arr15.dot(arr16.T)  #Remember that for dot products of matrices\n",
    "                    #Row of the first matrix must match the column of second"
   ]
  },
  {
   "cell_type": "code",
   "execution_count": 71,
   "id": "42cc8d36",
   "metadata": {},
   "outputs": [
    {
     "data": {
      "text/plain": [
       "np.float64(5.385164807134504)"
      ]
     },
     "execution_count": 71,
     "metadata": {},
     "output_type": "execute_result"
    }
   ],
   "source": [
    "np.linalg.norm(arr15)"
   ]
  },
  {
   "cell_type": "code",
   "execution_count": 76,
   "id": "2928b04a",
   "metadata": {},
   "outputs": [
    {
     "data": {
      "text/plain": [
       "array([[ 6, -6, -7],\n",
       "       [ 4,  5, -3],\n",
       "       [-4,  2,  4]])"
      ]
     },
     "execution_count": 76,
     "metadata": {},
     "output_type": "execute_result"
    }
   ],
   "source": [
    "arr17 = np.random.randint(-7, 7, (3, 3))\n",
    "arr17"
   ]
  },
  {
   "cell_type": "code",
   "execution_count": 77,
   "id": "760c47d3",
   "metadata": {},
   "outputs": [
    {
     "data": {
      "text/plain": [
       "np.float64(-15.999999999999991)"
      ]
     },
     "execution_count": 77,
     "metadata": {},
     "output_type": "execute_result"
    }
   ],
   "source": [
    "np.linalg.det(arr17)   #Determinant, if non zero, then invertible"
   ]
  },
  {
   "cell_type": "code",
   "execution_count": 78,
   "id": "ed0803c5",
   "metadata": {},
   "outputs": [
    {
     "data": {
      "text/plain": [
       "array([[-1.625 , -0.625 , -3.3125],\n",
       "       [ 0.25  ,  0.25  ,  0.625 ],\n",
       "       [-1.75  , -0.75  , -3.375 ]])"
      ]
     },
     "execution_count": 78,
     "metadata": {},
     "output_type": "execute_result"
    }
   ],
   "source": [
    "np.linalg.inv(arr17)"
   ]
  },
  {
   "cell_type": "markdown",
   "id": "385604e2",
   "metadata": {},
   "source": [
    "# Summary  \n",
    "- **Array Creation**: `np.array()`, `np.arange()`, `np.random.rand()`.  \n",
    "- **Properties**: `shape`, `dtype`, `size`, `nbytes`.  \n",
    "- **Reshaping**: `reshape()`, `flatten()` (copy) vs. `ravel()` (reference).  \n",
    "- **Indexing/Slicing**: Boolean masks, multi-axis slicing.  \n",
    "- **Functions**: Aggregates (`sum()`, `mean()`), math ops (`np.sqrt()`), linear algebra (`np.linalg.inv()`).  "
   ]
  },
  {
   "cell_type": "markdown",
   "id": "eb4ed30a",
   "metadata": {},
   "source": [
    "# Good Job!\n",
    "You have made great progress! Now you can try working with a real dataset and see how you could use numpy methods to play around with it. Tinker around and see what you can find!"
   ]
  }
 ],
 "metadata": {
  "kernelspec": {
   "display_name": "myenv",
   "language": "python",
   "name": "python3"
  },
  "language_info": {
   "codemirror_mode": {
    "name": "ipython",
    "version": 3
   },
   "file_extension": ".py",
   "mimetype": "text/x-python",
   "name": "python",
   "nbconvert_exporter": "python",
   "pygments_lexer": "ipython3",
   "version": "3.13.3"
  }
 },
 "nbformat": 4,
 "nbformat_minor": 5
}
